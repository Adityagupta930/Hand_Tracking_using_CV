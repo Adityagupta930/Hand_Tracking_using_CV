{
 "cells": [
  {
   "cell_type": "code",
   "execution_count": 12,
   "id": "87dfb537-e635-4f9c-96a1-d09739390ec2",
   "metadata": {},
   "outputs": [],
   "source": [
    "import cv2\n",
    "import mediapipe as mp\n",
    "import time"
   ]
  },
  {
   "cell_type": "code",
   "execution_count": 20,
   "id": "46b2a107-0f2b-4f7c-8a30-bbd66a4e1c2c",
   "metadata": {},
   "outputs": [],
   "source": [
    "cap = cv2.VideoCapture('vecteezy_the-girl-frowns-and-then-frowns-telling-her-to-stop-or-deny_9506721.mp4')\n",
    "mp_hands= mp.solutions.hands\n",
    "hands= mp_hands.Hands()\n",
    "mp_draw= mp.solutions.drawing_utils\n",
    "prev_time = 0\n",
    "curr_time = 0\n",
    "\n",
    "while True:\n",
    "    r,frame = cap.read()\n",
    "    img_rgb= cv2.cvtColor(frame,cv2.COLOR_BGR2RGB)\n",
    "    result = hands.process(img_rgb)\n",
    "    if result.multi_hand_landmarks:\n",
    "        for i in result.multi_hand_landmarks:\n",
    "            mp_draw.draw_landmarks(frame,i,mp_hands.HAND_CONNECTIONS)\n",
    "    frame = cv2.resize(frame,(600,300))\n",
    "   \n",
    "\n",
    "    curr_time= time.time()\n",
    "    fps= 1/(curr_time-prev_time)\n",
    "    prev_time= curr_time\n",
    "    cv2.putText(frame, str(int(fps)),(10,70),cv2.FONT_HERSHEY_COMPLEX,3,(0,0,255),3)\n",
    "    cv2.imshow(\"Adi\",frame)\n",
    "    if cv2.waitKey(25) & 0xFF == ord('p'):\n",
    "        break\n",
    "cap.release()\n",
    "cv2.destroyAllWindows()\n",
    "    "
   ]
  },
  {
   "cell_type": "code",
   "execution_count": 31,
   "id": "318dccaa-120a-4b27-b286-5719e25d5d91",
   "metadata": {},
   "outputs": [],
   "source": [
    "import cv2\n",
    "import mediapipe as mp\n",
    "\n",
    "cap = cv2.VideoCapture('vecteezy_the-girl-frowns-and-then-frowns-telling-her-to-stop-or-deny_9506721.mp4')\n",
    "mp_hands = mp.solutions.hands\n",
    "hands = mp_hands.Hands()\n",
    "mp_draw = mp.solutions.drawing_utils\n",
    "\n",
    "while cap.isOpened():\n",
    "    r, frame = cap.read()\n",
    "    if not r:\n",
    "        print(\"Failed to capture frame or end of video.\")\n",
    "        break\n",
    "    \n",
    "    img_rgb = cv2.cvtColor(frame, cv2.COLOR_BGR2RGB)\n",
    "    result = hands.process(img_rgb)\n",
    "\n",
    "    if result.multi_hand_landmarks:\n",
    "        for hand_landmarks in result.multi_hand_landmarks:\n",
    "            for id , lm in enumerate(hand_landmarks.landmark):\n",
    "                # print(id,landmarks)\n",
    "                h,w,c= frame.shape\n",
    "                cx,cy=int(lm.x*w),int(lm.y*h)\n",
    "                if id==4:\n",
    "                    cv2.circle(frame,(cx,cy),15,(255,0,255),cv2.FILLED)\n",
    "\n",
    "            mp_draw.draw_landmarks(frame, hand_landmarks, mp_hands.HAND_CONNECTIONS)\n",
    "\n",
    "    # Resize and display the frame\n",
    "    frame_resized = cv2.resize(frame, (600, 300))\n",
    "    cv2.imshow(\"Adi\", frame_resized)\n",
    "\n",
    "    # Press 'p' to exit\n",
    "    if cv2.waitKey(25) & 0xFF == ord('p'):\n",
    "        break\n",
    "\n",
    "cap.release()\n",
    "cv2.destroyAllWindows()\n"
   ]
  },
  {
   "cell_type": "code",
   "execution_count": null,
   "id": "4ccdfe64-72ba-49fe-8fc2-29c4b868807e",
   "metadata": {},
   "outputs": [],
   "source": []
  },
  {
   "cell_type": "code",
   "execution_count": null,
   "id": "e77be9c2-d1d8-42f9-9687-04f833fe0d0a",
   "metadata": {},
   "outputs": [],
   "source": []
  }
 ],
 "metadata": {
  "kernelspec": {
   "display_name": "Python 3 (ipykernel)",
   "language": "python",
   "name": "python3"
  },
  "language_info": {
   "codemirror_mode": {
    "name": "ipython",
    "version": 3
   },
   "file_extension": ".py",
   "mimetype": "text/x-python",
   "name": "python",
   "nbconvert_exporter": "python",
   "pygments_lexer": "ipython3",
   "version": "3.10.11"
  }
 },
 "nbformat": 4,
 "nbformat_minor": 5
}
